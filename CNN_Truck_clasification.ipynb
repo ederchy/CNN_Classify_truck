{
 "cells": [
  {
   "cell_type": "code",
   "execution_count": null,
   "metadata": {},
   "outputs": [],
   "source": [
    "##Classify_Truck_Modelling\n",
    "#Create and return a convolutional neural network (CNN) to classify images produced by a traffic\u0002camera feed based on whether or not a truck is in the images.\n",
    "\n"
   ]
  },
  {
   "cell_type": "markdown",
   "metadata": {},
   "source": [
    "\n",
    "Note that:\n",
    "You should use TensorFlow 2 Keras APIs to create a CNN that expects images of dimensions\n",
    "224x224 with 3 channels (Red, Green, and Blue).\n",
    "The CNN should consist of 8 ordered layers:\n",
    "1. A convolutional layer with 16 filters, each with a kernel of dimensions 3x3 and a Rectified\n",
    "Linear Unit (ReLU) activation function.\n",
    "2. A max pooling layer with dimensions 2x2.\n",
    "3. A convolutional layer with 32 filters, each with a kernel of dimensions 3x3 and a ReLU\n",
    "activation function.\n",
    "4. Another max pooling layer with dimensions 2x2.\n",
    "5. A convolutional layer with 64 ,filters each with a kernel of dimensions 3x3 and a ReLU\n",
    "activation function.\n",
    "6. A layer to flatten the values of the previous layer.\n",
    "7. A dense layer (fully connected) with 20 neurons and a ReLU activation function.\n",
    "8. Finally, a dense layer with a single neuron and sigmoid activation. This layer will output the\n",
    "prediction"
   ]
  },
  {
   "cell_type": "code",
   "execution_count": null,
   "metadata": {},
   "outputs": [],
   "source": [
    "import tensorflow as tf\n",
    "\n",
    "def classify_trucks():\n",
    "    model = tf.keras.models.Sequential([\n",
    "        tf.keras.layers.Conv2D(16, (3, 3),activation='relu',input_shape=(224, 224, 3), kernel_initializer='he_normal'),\n",
    "        tf.keras.layers.MaxPooling2D((2, 2)),\n",
    "        tf.keras.layers.Conv2D(32, (3, 3),activation='relu', kernel_initializer='he_normal'),\n",
    "        tf.keras.layers.MaxPooling2D((2, 2)),\n",
    "        tf.keras.layers.Conv2D(64,(3,3),activation='relu', kernel_initializer='he_normal'),\n",
    "        tf.keras.layers.Flatten(),\n",
    "        tf.keras.layers.Dense(20, activation='relu', kernel_initializer='he_normal'),\n",
    "        tf.keras.layers.Dense(1, activation='sigmoid', kernel_initializer='glorot_normal')\n",
    "    ])\n",
    "    model.compile( optimizer=tf.keras.optimizers.Adam(learning_rate=0.01),\n",
    "                    loss=tf.keras.losses.BinaryCrossentropy(),\n",
    "                    metrics=['binary_accuracy'])\n",
    "\n",
    "    return model\n"
   ]
  }
 ],
 "metadata": {
  "language_info": {
   "name": "python"
  },
  "orig_nbformat": 4
 },
 "nbformat": 4,
 "nbformat_minor": 2
}
